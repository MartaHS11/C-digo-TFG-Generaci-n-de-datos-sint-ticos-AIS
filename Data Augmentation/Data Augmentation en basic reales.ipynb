{
 "cells": [
  {
   "cell_type": "code",
   "execution_count": 1,
   "id": "a909a9bb-d09c-49d9-9967-ade3f36c6176",
   "metadata": {},
   "outputs": [],
   "source": [
    "import pandas as pd\n",
    "from imblearn.over_sampling import SMOTE"
   ]
  },
  {
   "cell_type": "code",
   "execution_count": 7,
   "id": "e464b97c-d1d5-4dfe-bca0-fd1cd284d16b",
   "metadata": {},
   "outputs": [
    {
     "name": "stdout",
     "output_type": "stream",
     "text": [
      "Distribución original de shiptype:\n",
      "shiptype\n",
      "ShipType.Cargo        22097\n",
      "ShipType.Tanker        8986\n",
      "ShipType.Tug           5821\n",
      "ShipType.Fishing       5551\n",
      "ShipType.Passenger     2912\n",
      "Name: count, dtype: int64\n",
      "\n",
      "Distribución después de SMOTE:\n",
      "shiptype\n",
      "ShipType.Cargo        22097\n",
      "ShipType.Tanker        8986\n",
      "ShipType.Tug           5821\n",
      "ShipType.Fishing       5551\n",
      "ShipType.Passenger     4368\n",
      "Name: count, dtype: int64\n",
      "\n",
      "Primeras 5 filas del dataset aumentado:\n",
      "   Unnamed: 0  MMSI  draught  to_bow  to_stern  to_port  to_starboard  \\\n",
      "0           0     5      3.4    10.0      27.0      5.0           5.0   \n",
      "1           1     6      5.3     7.0      27.0      5.0           5.0   \n",
      "2           2  1458      3.2     3.0      15.0      3.0           4.0   \n",
      "3           3  2829      3.4     6.0      90.0      6.0           8.0   \n",
      "4           4  3247      4.5    50.0      10.0      6.0           6.0   \n",
      "\n",
      "             shiptype  \n",
      "0        ShipType.Tug  \n",
      "1        ShipType.Tug  \n",
      "2    ShipType.Fishing  \n",
      "3      ShipType.Cargo  \n",
      "4  ShipType.Passenger  \n",
      "\n",
      "Archivo con SMOTE guardado correctamente como final_static_basic_augmented.csv\n"
     ]
    }
   ],
   "source": [
    "# Cargar el dataset\n",
    "file_path = \"final_static_data_basic.csv\"\n",
    "df = pd.read_csv(file_path)\n",
    "\n",
    "# Verificar las categorías en 'shiptype'\n",
    "print(\"Distribución original de shiptype:\")\n",
    "print(df['shiptype'].value_counts())\n",
    "\n",
    "# Separar características (X) y variable objetivo (y)\n",
    "X = df.drop(columns=['shiptype'])  # Eliminar la variable objetivo para aplicar SMOTE\n",
    "y = df['shiptype']  # Variable objetivo\n",
    "\n",
    "# Calcular el 50% más para la clase Passenger\n",
    "num_passenger = df[df['shiptype'] == 'ShipType.Passenger'].shape[0]\n",
    "num_passenger_augmented = int(num_passenger * 1.5)\n",
    "\n",
    "# Aplicar SMOTE con incremento del 50% en Passenger\n",
    "smote = SMOTE(sampling_strategy={'ShipType.Passenger': num_passenger_augmented}, random_state=42)\n",
    "X_resampled, y_resampled = smote.fit_resample(X, y)\n",
    "\n",
    "# Crear un nuevo DataFrame con los datos aumentados\n",
    "df_augmented = pd.concat([X_resampled, y_resampled], axis=1)\n",
    "\n",
    "# Verificar la nueva distribución de shiptype\n",
    "print(\"\\nDistribución después de SMOTE:\")\n",
    "print(df_augmented['shiptype'].value_counts())\n",
    "\n",
    "# Imprimir las cinco primeras filas del dataset generado\n",
    "print(\"\\nPrimeras 5 filas del dataset aumentado:\")\n",
    "print(df_augmented.head())\n",
    "\n",
    "# Guardar el dataset aumentado\n",
    "df_augmented.to_csv(\"final_static_basic_augmented.csv\", index=False)\n",
    "print(\"\\nArchivo con SMOTE guardado correctamente como final_static_basic_augmented.csv\")\n"
   ]
  },
  {
   "cell_type": "code",
   "execution_count": null,
   "id": "e4cfe6cb-7feb-447e-af2e-ada39e77f31b",
   "metadata": {},
   "outputs": [],
   "source": []
  }
 ],
 "metadata": {
  "kernelspec": {
   "display_name": "Python 3 (ipykernel)",
   "language": "python",
   "name": "python3"
  },
  "language_info": {
   "codemirror_mode": {
    "name": "ipython",
    "version": 3
   },
   "file_extension": ".py",
   "mimetype": "text/x-python",
   "name": "python",
   "nbconvert_exporter": "python",
   "pygments_lexer": "ipython3",
   "version": "3.12.3"
  }
 },
 "nbformat": 4,
 "nbformat_minor": 5
}
