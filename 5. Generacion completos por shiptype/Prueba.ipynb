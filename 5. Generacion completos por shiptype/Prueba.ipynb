{
 "cells": [
  {
   "cell_type": "markdown",
   "id": "bfb95ab9-c244-4af8-8248-bb8b26a35e4e",
   "metadata": {},
   "source": [
    "Generacion ARCHIVO CSV"
   ]
  },
  {
   "cell_type": "code",
   "execution_count": 2,
   "id": "b87a2853-d4c2-4196-8bf8-4c08fabeae53",
   "metadata": {},
   "outputs": [],
   "source": [
    "import pandas as pd"
   ]
  },
  {
   "cell_type": "code",
   "execution_count": 58,
   "id": "b630d1f3-7280-42e3-a380-1ea23cd8caef",
   "metadata": {},
   "outputs": [],
   "source": [
    "#Crear Dtaframe de 20 filas con las columnas ejemplo:\n",
    "data={\n",
    "    'Columna1': [1, 1, 3, 4, 5, 7, 3, 5, 2, 1, 3, 3, 4, 5, 6, 4, 9, 5, 3, 1],\n",
    "    'Columna2': [5, 3, 2, 0, 1, 2, 4, 4, 6, 10, 3, 2, 7, 4, 9, 1, 7, 1, 3, 2]\n",
    "}\n",
    "\n",
    "df = pd.DataFrame(data)\n",
    "\n",
    "# Calcular la tercera columna como la suma de las dos anteriores\n",
    "df['Columna3'] = df['Columna1'] + df['Columna2']"
   ]
  },
  {
   "cell_type": "code",
   "execution_count": 59,
   "id": "83409fec-323a-4480-998c-34d939a601ad",
   "metadata": {},
   "outputs": [],
   "source": [
    "# Guardar el DataFrame en un archivo CSV\n",
    "df.to_csv('prueba.csv', index=False)"
   ]
  },
  {
   "cell_type": "code",
   "execution_count": 60,
   "id": "2ed7d295-46bf-481f-9c3b-c89113ae78ee",
   "metadata": {},
   "outputs": [
    {
     "name": "stdout",
     "output_type": "stream",
     "text": [
      "    Columna1  Columna2  Columna3\n",
      "0          1         5         6\n",
      "1          1         3         4\n",
      "2          3         2         5\n",
      "3          4         0         4\n",
      "4          5         1         6\n",
      "5          7         2         9\n",
      "6          3         4         7\n",
      "7          5         4         9\n",
      "8          2         6         8\n",
      "9          1        10        11\n",
      "10         3         3         6\n",
      "11         3         2         5\n",
      "12         4         7        11\n",
      "13         5         4         9\n",
      "14         6         9        15\n",
      "15         4         1         5\n",
      "16         9         7        16\n",
      "17         5         1         6\n",
      "18         3         3         6\n",
      "19         1         2         3\n"
     ]
    }
   ],
   "source": [
    "print(df.head(20))"
   ]
  },
  {
   "cell_type": "markdown",
   "id": "1dbea18d-9b2a-436e-9790-89a51b2ce001",
   "metadata": {},
   "source": [
    "PRUEBA DE LAS DIFERENTES TECNICAS DE GDS "
   ]
  },
  {
   "cell_type": "markdown",
   "id": "9e7cf10d-2d57-4dc8-a4fd-d12ee53ac81a",
   "metadata": {},
   "source": [
    "Prueba para CTGAN"
   ]
  },
  {
   "cell_type": "code",
   "execution_count": 61,
   "id": "c7093f76-46c1-476e-a1e3-ee4a20eccddb",
   "metadata": {},
   "outputs": [],
   "source": [
    "from sdv.single_table import CTGANSynthesizer\n",
    "from sdv.metadata import Metadata\n",
    "from sdv.metadata import SingleTableMetadata"
   ]
  },
  {
   "cell_type": "code",
   "execution_count": 62,
   "id": "51b3e9e9-b09e-4079-91bc-4dacde98f2ad",
   "metadata": {},
   "outputs": [],
   "source": [
    "archivo_csv=\"prueba.csv\""
   ]
  },
  {
   "cell_type": "code",
   "execution_count": 63,
   "id": "9640af3d-c338-44cf-8313-721b3edcbbf2",
   "metadata": {},
   "outputs": [],
   "source": [
    "df_CTGAN= pd.read_csv('prueba.csv')"
   ]
  },
  {
   "cell_type": "code",
   "execution_count": 64,
   "id": "fe8caa93-ea34-40bb-9a58-0426a34c8a83",
   "metadata": {},
   "outputs": [],
   "source": [
    "# Definir metadatos del dataset\n",
    "metadata_CTGAN = SingleTableMetadata()\n",
    "metadata_CTGAN.detect_from_dataframe(df_CTGAN)"
   ]
  },
  {
   "cell_type": "code",
   "execution_count": 65,
   "id": "61930ae5-5627-4476-9d6c-13e8f184f0f9",
   "metadata": {},
   "outputs": [
    {
     "name": "stdout",
     "output_type": "stream",
     "text": [
      "CPU times: user 2.9 ms, sys: 0 ns, total: 2.9 ms\n",
      "Wall time: 2.85 ms\n"
     ]
    },
    {
     "name": "stderr",
     "output_type": "stream",
     "text": [
      "/opt/jupyterhub/lib/python3.12/site-packages/sdv/single_table/base.py:119: FutureWarning: The 'SingleTableMetadata' is deprecated. Please use the new 'Metadata' class for synthesizers.\n",
      "  warnings.warn(DEPRECATION_MSG, FutureWarning)\n",
      "/opt/jupyterhub/lib/python3.12/site-packages/sdv/single_table/base.py:104: UserWarning: We strongly recommend saving the metadata using 'save_to_json' for replicability in future SDV versions.\n",
      "  warnings.warn(\n"
     ]
    }
   ],
   "source": [
    "%%time\n",
    "synthesizer = CTGANSynthesizer(metadata_CTGAN)"
   ]
  },
  {
   "cell_type": "code",
   "execution_count": 66,
   "id": "b349f8f5-e7bc-499e-b257-49a794d6ac75",
   "metadata": {},
   "outputs": [],
   "source": [
    "synthesizer.fit(df_CTGAN)"
   ]
  },
  {
   "cell_type": "code",
   "execution_count": 67,
   "id": "8760b314-8c06-4938-a009-f03b89ad30b3",
   "metadata": {},
   "outputs": [],
   "source": [
    "num_datos_sinteticos_CTGAN = 20\n",
    "df_sinteticos_CTGAN = synthesizer.sample(num_datos_sinteticos_CTGAN)"
   ]
  },
  {
   "cell_type": "code",
   "execution_count": 68,
   "id": "8f803197-442e-4e11-9b2c-6714cd84f8d6",
   "metadata": {},
   "outputs": [
    {
     "name": "stdout",
     "output_type": "stream",
     "text": [
      "   Columna1  Columna2  Columna3\n",
      "0         3         0         8\n",
      "1         1         4         8\n",
      "2         1         2        12\n",
      "3         8         3         8\n",
      "4         1         1         3\n",
      "5         7         7        10\n",
      "6         2         5         5\n",
      "7         3         6         9\n",
      "8         2         4         9\n",
      "9         1         5         7\n"
     ]
    }
   ],
   "source": [
    "print(df_sinteticos_CTGAN.head(10))"
   ]
  },
  {
   "cell_type": "markdown",
   "id": "2e890611-d9eb-45f5-afff-076053125f34",
   "metadata": {},
   "source": [
    "Prueba para TVAE"
   ]
  },
  {
   "cell_type": "code",
   "execution_count": 69,
   "id": "58c22a32-0127-4280-9cf8-2fac0d22843e",
   "metadata": {},
   "outputs": [],
   "source": [
    "import pandas as pd\n",
    "from sdv.metadata import SingleTableMetadata\n",
    "from sdv.single_table import TVAESynthesizer"
   ]
  },
  {
   "cell_type": "code",
   "execution_count": 70,
   "id": "33a54b18-c6d7-45b7-9806-42edc6c69b7a",
   "metadata": {},
   "outputs": [],
   "source": [
    "# Cargar archivo\n",
    "df_TVAE = pd.read_csv(\"prueba.csv\")"
   ]
  },
  {
   "cell_type": "code",
   "execution_count": 71,
   "id": "d5e3f9a8-fc6f-4bd6-affb-ee4d0bd5411e",
   "metadata": {},
   "outputs": [],
   "source": [
    "# Definir metadatos del dataset\n",
    "metadata_TVAE = SingleTableMetadata()\n",
    "metadata_TVAE.detect_from_dataframe(df_TVAE)"
   ]
  },
  {
   "cell_type": "code",
   "execution_count": 72,
   "id": "36997a66-bf65-4fdd-b3dd-75da3cd6dc15",
   "metadata": {},
   "outputs": [
    {
     "name": "stderr",
     "output_type": "stream",
     "text": [
      "/opt/jupyterhub/lib/python3.12/site-packages/sdv/single_table/base.py:119: FutureWarning: The 'SingleTableMetadata' is deprecated. Please use the new 'Metadata' class for synthesizers.\n",
      "  warnings.warn(DEPRECATION_MSG, FutureWarning)\n",
      "/opt/jupyterhub/lib/python3.12/site-packages/sdv/single_table/base.py:104: UserWarning: We strongly recommend saving the metadata using 'save_to_json' for replicability in future SDV versions.\n",
      "  warnings.warn(\n"
     ]
    }
   ],
   "source": [
    "# Crear y entrenar el modelo VAE para generación de datos sintéticos\n",
    "synthesizer = TVAESynthesizer(metadata_TVAE)\n",
    "synthesizer.fit(df_TVAE)"
   ]
  },
  {
   "cell_type": "code",
   "execution_count": 73,
   "id": "25ae11cd-c7bd-4ddb-a7ae-c3c5344854ec",
   "metadata": {},
   "outputs": [
    {
     "name": "stdout",
     "output_type": "stream",
     "text": [
      "CPU times: user 218 ms, sys: 1.55 ms, total: 220 ms\n",
      "Wall time: 16.2 ms\n"
     ]
    }
   ],
   "source": [
    "%%time\n",
    "# Generar datos sintéticos\n",
    "num_synthetic_rows = 20  \n",
    "df_sinteticos_TVAE = synthesizer.sample(num_rows=num_synthetic_rows)"
   ]
  },
  {
   "cell_type": "code",
   "execution_count": 74,
   "id": "73bb94fd-1b1b-4e15-af8c-7c897bc899b3",
   "metadata": {},
   "outputs": [
    {
     "name": "stdout",
     "output_type": "stream",
     "text": [
      "   Columna1  Columna2  Columna3\n",
      "0         1         4         5\n",
      "1         4         1         3\n",
      "2         3         6         6\n",
      "3         5         2         9\n",
      "4         1         2        11\n",
      "5         4         2         6\n",
      "6         4         5         5\n",
      "7         6         5         8\n",
      "8         6         5        14\n",
      "9         4         1         7\n"
     ]
    }
   ],
   "source": [
    "print(df_sinteticos_TVAE.head(10))"
   ]
  },
  {
   "cell_type": "markdown",
   "id": "d63362b2-c3b6-4043-9a76-396df1d78166",
   "metadata": {},
   "source": [
    "Prueba para GaussianCopula"
   ]
  },
  {
   "cell_type": "code",
   "execution_count": 75,
   "id": "4faa85dc-61da-42c9-b22a-715eabdda70c",
   "metadata": {},
   "outputs": [],
   "source": [
    "import pandas as pd\n",
    "from sdv.metadata import Metadata\n",
    "from sdv.single_table import GaussianCopulaSynthesizer"
   ]
  },
  {
   "cell_type": "code",
   "execution_count": 76,
   "id": "9ee843b4-2510-4f2f-be84-3c0c770e6606",
   "metadata": {},
   "outputs": [],
   "source": [
    "# Cargar archivo\n",
    "df_GC = pd.read_csv(\"prueba.csv\")"
   ]
  },
  {
   "cell_type": "code",
   "execution_count": 77,
   "id": "44c6bba8-33a8-44d1-a6c8-ac9c0dc8ab30",
   "metadata": {},
   "outputs": [],
   "source": [
    "# Definir metadatos del dataset\n",
    "metadata_GC = SingleTableMetadata()\n",
    "metadata_GC.detect_from_dataframe(df_GC)"
   ]
  },
  {
   "cell_type": "code",
   "execution_count": 78,
   "id": "0ba31211-58f1-4ba6-a63e-dbd611cddd0f",
   "metadata": {},
   "outputs": [
    {
     "name": "stderr",
     "output_type": "stream",
     "text": [
      "/opt/jupyterhub/lib/python3.12/site-packages/sdv/single_table/base.py:119: FutureWarning: The 'SingleTableMetadata' is deprecated. Please use the new 'Metadata' class for synthesizers.\n",
      "  warnings.warn(DEPRECATION_MSG, FutureWarning)\n",
      "/opt/jupyterhub/lib/python3.12/site-packages/sdv/single_table/base.py:104: UserWarning: We strongly recommend saving the metadata using 'save_to_json' for replicability in future SDV versions.\n",
      "  warnings.warn(\n"
     ]
    }
   ],
   "source": [
    "#Crear el sintetizador GaussianCopula\n",
    "synthesizer = GaussianCopulaSynthesizer(metadata_GC)\n",
    "#Entrenar el modelo con los datos reales\n",
    "synthesizer.fit(df_GC)"
   ]
  },
  {
   "cell_type": "code",
   "execution_count": 79,
   "id": "30513288-2a0a-4f95-bae0-5d56bb8dac8e",
   "metadata": {},
   "outputs": [
    {
     "name": "stdout",
     "output_type": "stream",
     "text": [
      "CPU times: user 10.9 ms, sys: 52 μs, total: 10.9 ms\n",
      "Wall time: 10.7 ms\n"
     ]
    }
   ],
   "source": [
    "%%time\n",
    "#Generar los datos sinteticos\n",
    "num_datos_sinteticos = 20\n",
    "df_sinteticos_GC = synthesizer.sample(num_datos_sinteticos)"
   ]
  },
  {
   "cell_type": "code",
   "execution_count": 80,
   "id": "d9716716-021e-4c09-86a5-46b3df44566f",
   "metadata": {},
   "outputs": [
    {
     "name": "stdout",
     "output_type": "stream",
     "text": [
      "   Columna1  Columna2  Columna3\n",
      "0         7         4        13\n",
      "1         3         4         9\n",
      "2         5         1         9\n",
      "3         3         1         9\n",
      "4         4         5        13\n",
      "5         3         4         7\n",
      "6         3         4        10\n",
      "7         8         0        11\n",
      "8         6         9        16\n",
      "9         4         2         5\n"
     ]
    }
   ],
   "source": [
    "#Mostrar los primeros registros de datos sinteticos\n",
    "print(df_sinteticos_GC.head(10))"
   ]
  },
  {
   "cell_type": "code",
   "execution_count": 81,
   "id": "930fe25d-af38-45ca-a614-4ca317173a37",
   "metadata": {},
   "outputs": [
    {
     "name": "stdout",
     "output_type": "stream",
     "text": [
      "          Columna1  Columna2  Columna3\n",
      "Columna1  1.000000  0.017924  0.618219\n",
      "Columna2  0.017924  1.000000  0.796960\n",
      "Columna3  0.618219  0.796960  1.000000\n",
      "          Columna1  Columna2  Columna3\n",
      "Columna1  1.000000 -0.220179  0.447478\n",
      "Columna2 -0.220179  1.000000  0.533831\n",
      "Columna3  0.447478  0.533831  1.000000\n"
     ]
    }
   ],
   "source": [
    "print(df_GC.corr())\n",
    "print(df_sinteticos_GC.corr())\n"
   ]
  },
  {
   "cell_type": "code",
   "execution_count": null,
   "id": "ddf600c7-515e-4963-b223-0fd8aa95cfb0",
   "metadata": {},
   "outputs": [],
   "source": []
  }
 ],
 "metadata": {
  "kernelspec": {
   "display_name": "Python 3 (ipykernel)",
   "language": "python",
   "name": "python3"
  },
  "language_info": {
   "codemirror_mode": {
    "name": "ipython",
    "version": 3
   },
   "file_extension": ".py",
   "mimetype": "text/x-python",
   "name": "python",
   "nbconvert_exporter": "python",
   "pygments_lexer": "ipython3",
   "version": "3.12.3"
  }
 },
 "nbformat": 4,
 "nbformat_minor": 5
}
