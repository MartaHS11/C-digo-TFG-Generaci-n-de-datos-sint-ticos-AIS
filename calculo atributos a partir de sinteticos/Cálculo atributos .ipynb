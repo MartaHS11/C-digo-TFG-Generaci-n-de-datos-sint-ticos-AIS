{
 "cells": [
  {
   "cell_type": "code",
   "execution_count": 1,
   "id": "0781b934-854b-4445-8d7f-3f7885bd1e08",
   "metadata": {},
   "outputs": [],
   "source": [
    "import pandas as pd"
   ]
  },
  {
   "cell_type": "code",
   "execution_count": 2,
   "id": "62139471-d9e1-4618-8450-d1821417260d",
   "metadata": {},
   "outputs": [],
   "source": [
    "# Definir la función para calcular atributos estáticos\n",
    "def statics_processing(df):\n",
    "    df['len'] = df.to_bow + df.to_stern  # Eslora\n",
    "    df['wid'] = df.to_port + df.to_starboard  # Manga\n",
    "    df['ldivw'] = df['len'] / df['wid']  # Cociente entre eslora y manga\n",
    "    df['ldivd'] = df['len'] / df['draught']  # Cociente entre eslora y calado\n",
    "    df['wdivd'] = df['wid'] / df['draught']  # Cociente entre manga y calado\n",
    "    df['area'] = df.len * df.wid  # Área de la cubierta aproximada\n",
    "    df['grith'] = df.len + df.wid  # Suma de eslora y manga\n",
    "    df['aml'] = df.len * df.draught  # Área longitudinal sumergida\n",
    "    df['amt'] = df.wid * df.draught  # Área transversal sumergida\n",
    "    df['vs'] = df.len * df.draught * df.wid  # Volumen sumergido\n",
    "    df['aol'] = df['to_bow'] / df['len']  # Proporción que supone a sobre la eslora total\n",
    "    return df\n"
   ]
  },
  {
   "cell_type": "code",
   "execution_count": 3,
   "id": "aaebdf5b-b563-4f2a-ab45-8ecd8c7f56f9",
   "metadata": {},
   "outputs": [],
   "source": [
    "# Rutas de archivos de datos sintéticos \n",
    "archivos_sinteticos = {\n",
    "    'TVAE': 'synthetic_static_basic_TVAE.csv',\n",
    "    'GaussianCopula': 'synthetic_static_basic_GaussianCopula.csv',\n",
    "    'CTGAN': 'synthetic_static_basic_CTGAN.csv'\n",
    "}\n"
   ]
  },
  {
   "cell_type": "code",
   "execution_count": 9,
   "id": "28b4cf51-4a77-43fa-803c-54b53103d9a5",
   "metadata": {},
   "outputs": [
    {
     "name": "stdout",
     "output_type": "stream",
     "text": [
      "Primeras filas de los atributos calculados a partir de los datos sinteticos TVAE:\n",
      "       MMSI    draught      to_bow   to_stern    to_port  to_starboard  \\\n",
      "0  14374624   9.819297  146.485939  34.891283  20.392690     10.544324   \n",
      "1  15466187   5.290521   31.112901  59.467735   8.766642     12.818422   \n",
      "2  14981267   9.243166  196.997671  31.122374  21.136936     11.278718   \n",
      "3   8090997  12.842989  203.632909  27.649310  12.005997     22.157070   \n",
      "4   5591053   4.181110   29.111132  28.783013   6.013622      2.019162   \n",
      "\n",
      "           shiptype         len        wid     ldivw      ldivd     wdivd  \\\n",
      "0   ShipType.Tanker  181.377222  30.937014  5.862790  18.471508  3.150634   \n",
      "1    ShipType.Cargo   90.580636  21.585063  4.196450  17.121308  4.079951   \n",
      "2    ShipType.Cargo  228.120045  32.415654  7.037342  24.679861  3.506986   \n",
      "3    ShipType.Cargo  231.282220  34.163067  6.769949  18.008442  2.660056   \n",
      "4  ShipType.Fishing   57.894145   8.032784  7.207233  13.846598  1.921209   \n",
      "\n",
      "          area       grith          aml         amt             vs       aol  \n",
      "0  5611.269565  212.314235  1780.996761  303.779715   55098.720849  0.807631  \n",
      "1  1955.188753  112.165699   479.218731  114.196224   10343.966609  0.343483  \n",
      "2  7394.660335  260.535698  2108.551351  299.623253   68350.069991  0.863570  \n",
      "3  7901.309945  265.445287  2970.354922  438.755880  101476.433913  0.880452  \n",
      "4   465.051135   65.926929   242.061763   33.585948    1944.429740  0.502834  \n",
      "\n",
      "--------------------------------------------------\n",
      "\n",
      "Primeras filas de los atributos calculados a partir de los datos sinteticos GaussianCopula:\n",
      "       MMSI    draught      to_bow   to_stern    to_port  to_starboard  \\\n",
      "0  14374624  13.098885  279.648748  49.782706  35.394045     25.544530   \n",
      "1  15466187  14.497094  256.266989  40.811324  29.478509     17.362116   \n",
      "2  14981267   8.713863  135.246131  59.484439  13.153698     11.664804   \n",
      "3   8090997   2.878784  131.404949  12.199003   4.455921     10.133496   \n",
      "4   5591053   7.052607   18.299146  45.141388  10.781726      4.190420   \n",
      "\n",
      "           shiptype         len        wid     ldivw      ldivd     wdivd  \\\n",
      "0   ShipType.Tanker  329.431455  60.938574  5.405959  25.149579  4.652195   \n",
      "1    ShipType.Cargo  297.078313  46.840624  6.342322  20.492266  3.231035   \n",
      "2    ShipType.Cargo  194.730570  24.818502  7.846186  22.347214  2.848163   \n",
      "3    ShipType.Cargo  143.603952  14.589417  9.843022  49.883550  5.067910   \n",
      "4  ShipType.Fishing   63.440534  14.972146  4.237237   8.995331  2.122923   \n",
      "\n",
      "           area       grith          aml         amt             vs       aol  \n",
      "0  20075.083190  390.370029  4315.184893  798.227406  262961.215487  0.848883  \n",
      "1  13915.333658  343.918937  4306.772248  679.052938  201731.901123  0.862624  \n",
      "2   4832.921037  219.549072  1696.855559  216.265032   42113.412974  0.694530  \n",
      "3   2095.097904  158.193368   413.404717   41.999775    6031.333720  0.915051  \n",
      "4    949.840916   78.412680   447.421174  105.592664    6698.854972  0.288446  \n",
      "\n",
      "--------------------------------------------------\n",
      "\n",
      "Primeras filas de los atributos calculados a partir de los datos sinteticos CTGAN:\n",
      "       MMSI    draught      to_bow   to_stern    to_port  to_starboard  \\\n",
      "0  14374624  12.541259  185.632102  49.274023  19.895917     23.471877   \n",
      "1  15466187   8.702465   15.533554  83.341413  30.033746     18.527647   \n",
      "2  14981267   5.301816   17.380511  69.464140  10.168411     10.490118   \n",
      "3   8090997   7.378139   92.360891  17.094739   5.050334     10.452327   \n",
      "4   5591053   3.718687    9.174241  20.207645   1.921807      4.971802   \n",
      "\n",
      "           shiptype         len        wid     ldivw      ldivd     wdivd  \\\n",
      "0   ShipType.Tanker  234.906125  43.367794  5.416603  18.730665  3.458009   \n",
      "1    ShipType.Cargo   98.874967  48.561393  2.036082  11.361720  5.580189   \n",
      "2    ShipType.Cargo   86.844651  20.658528  4.203816  16.380170  3.896500   \n",
      "3    ShipType.Cargo  109.455629  15.502661  7.060442  14.835128  2.101161   \n",
      "4  ShipType.Fishing   29.381886   6.893609  4.262192   7.901145  1.853775   \n",
      "\n",
      "           area       grith          aml         amt             vs       aol  \n",
      "0  10187.360395  278.273919  2946.018671  543.886755  127762.330133  0.790240  \n",
      "1   4801.506152  147.436360   860.455901  422.603807   41784.937381  0.157103  \n",
      "2   1794.082663  107.503179   460.434382  109.527720    9511.896632  0.200133  \n",
      "3   1696.853466  124.958290   807.578806  114.380778   12519.620074  0.843820  \n",
      "4    202.547229   36.275495   109.262034   25.635173     753.209734  0.312241  \n",
      "\n",
      "--------------------------------------------------\n",
      "\n"
     ]
    }
   ],
   "source": [
    "# Procesar cada archivo y guardar los resultados\n",
    "for metodo, archivo in archivos_sinteticos.items():\n",
    "    # Cargar los datos sintéticos\n",
    "    df_sinteticos = pd.read_csv(archivo)\n",
    "    \n",
    "    # Aplicar la función para calcular atributos estáticos\n",
    "    df_sinteticos_procesados = statics_processing(df_sinteticos)\n",
    "    \n",
    "    # Guardar los datos procesados en un nuevo archivo CSV\n",
    "    nombre_archivo_salida = f\"atributos_calculados_{metodo}.csv\"\n",
    "    df_sinteticos_procesados.to_csv(nombre_archivo_salida, index=False)\n",
    "\n",
    "    # Imprimir las primeras 5 filas del DataFrame procesado\n",
    "    print(f\"Primeras filas de los atributos calculados a partir de los datos sinteticos {metodo}:\")\n",
    "    print(df_sinteticos_procesados.head(5))\n",
    "    print(\"\\n\" + \"-\"*50 + \"\\n\")  # Separador para mejor lectura"
   ]
  },
  {
   "cell_type": "code",
   "execution_count": null,
   "id": "11f7a712-dd63-48d1-b6d0-80717b32b63f",
   "metadata": {},
   "outputs": [],
   "source": []
  },
  {
   "cell_type": "code",
   "execution_count": null,
   "id": "a6206c13-d700-4b9c-ba26-d1f71eeea145",
   "metadata": {},
   "outputs": [],
   "source": []
  }
 ],
 "metadata": {
  "kernelspec": {
   "display_name": "Python 3 (ipykernel)",
   "language": "python",
   "name": "python3"
  },
  "language_info": {
   "codemirror_mode": {
    "name": "ipython",
    "version": 3
   },
   "file_extension": ".py",
   "mimetype": "text/x-python",
   "name": "python",
   "nbconvert_exporter": "python",
   "pygments_lexer": "ipython3",
   "version": "3.12.3"
  }
 },
 "nbformat": 4,
 "nbformat_minor": 5
}
